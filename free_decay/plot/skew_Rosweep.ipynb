{
 "cells": [
  {
   "cell_type": "code",
   "execution_count": 6,
   "id": "884ac3c8",
   "metadata": {},
   "outputs": [],
   "source": [
    "import numpy as np\n",
    "import matplotlib\n",
    "import matplotlib.pyplot as plt\n",
    "import matplotlib.colors as colors\n",
    "import h5py\n",
    "\n",
    "plt.style.use('~/Python_Tool/ryan_mplstyle.mplstyle')"
   ]
  },
  {
   "cell_type": "code",
   "execution_count": 7,
   "id": "fbea7338-f9da-4611-8b9f-a439d30f5f89",
   "metadata": {},
   "outputs": [],
   "source": [
    "Ro_ary = np.array([0.01,0.03,0.05,0.07,0.1,0.12])\n",
    "rand_seed_ary = np.array([1,2,3,4,5,6,7,8,9,10])\n",
    "\n",
    "time_i = 2000"
   ]
  },
  {
   "cell_type": "code",
   "execution_count": 8,
   "id": "d5b1fcb4",
   "metadata": {},
   "outputs": [
    {
     "name": "stdout",
     "output_type": "stream",
     "text": [
      "0.01\n",
      "0.03\n",
      "0.05\n",
      "0.07\n",
      "0.1\n",
      "0.12\n"
     ]
    }
   ],
   "source": [
    "SW_zeta_skew_mat = np.empty((rand_seed_ary.size,Ro_ary.size) )\n",
    "SW_q_skew_mat = np.empty((rand_seed_ary.size,Ro_ary.size) )\n",
    "\n",
    "for Ro_i in np.arange(Ro_ary.size):\n",
    "    Ro = Ro_ary[Ro_i]\n",
    "    print(Ro)\n",
    "    for ri in np.arange(rand_seed_ary.size):\n",
    "        rand_seed = rand_seed_ary[ri]\n",
    "        dgname = 'Ro_%.2f/SW_dg_%.2f_%d/SW_dg_%.2f_%d_s%i' %(Ro, Ro,rand_seed, Ro,rand_seed, 1)\n",
    "        dgname = dgname.replace(\".\", \"d\" ); dgname = \"../\"+dgname+'.h5'\n",
    "        with h5py.File(dgname, mode='r') as file:\n",
    "            zeta_skew_data = np.squeeze(np.array(file['tasks']['zeta_skew']))\n",
    "            q_skew_data = np.squeeze(np.array(file['tasks']['q_skew']))\n",
    "            \n",
    "            SW_zeta_skew_mat[ri,Ro_i] = zeta_skew_data[time_i]\n",
    "            SW_q_skew_mat[ri,Ro_i] = q_skew_data[time_i]"
   ]
  },
  {
   "cell_type": "code",
   "execution_count": 9,
   "id": "18d13631-15fe-43ab-ac99-429e4ede24f0",
   "metadata": {},
   "outputs": [
    {
     "name": "stdout",
     "output_type": "stream",
     "text": [
      "0.01\n",
      "0.03\n",
      "0.05\n",
      "0.07\n",
      "0.1\n",
      "0.12\n"
     ]
    }
   ],
   "source": [
    "P1_zeta_skew_mat = np.empty((rand_seed_ary.size,Ro_ary.size) )\n",
    "P1_q_skew_mat = np.empty((rand_seed_ary.size,Ro_ary.size) )\n",
    "\n",
    "for Ro_i in np.arange(Ro_ary.size):\n",
    "    Ro = Ro_ary[Ro_i]\n",
    "    print(Ro)\n",
    "    for ri in np.arange(rand_seed_ary.size):\n",
    "        rand_seed = rand_seed_ary[ri]\n",
    "        dgname = 'Ro_%.2f/QGp1_dg_%.2f_%d/QGp1_dg_%.2f_%d_s%i' %(Ro, Ro,rand_seed, Ro,rand_seed, 1)\n",
    "        dgname = dgname.replace(\".\", \"d\" ); dgname = \"../\"+dgname+'.h5'\n",
    "        with h5py.File(dgname, mode='r') as file:\n",
    "            zeta_skew_data = np.squeeze(np.array(file['tasks']['zeta_skew']))\n",
    "            q_skew_data = np.squeeze(np.array(file['tasks']['q_skew']))\n",
    "            \n",
    "            P1_zeta_skew_mat[ri,Ro_i] = zeta_skew_data[time_i]\n",
    "            P1_q_skew_mat[ri,Ro_i] = q_skew_data[time_i]"
   ]
  },
  {
   "cell_type": "code",
   "execution_count": 13,
   "id": "8180d47d-4507-4c64-81ec-7ede5faf6ad6",
   "metadata": {},
   "outputs": [
    {
     "data": {
      "image/png": "[encoded data removed]",
      "text/plain": [
       "<Figure size 280x220 with 1 Axes>"
      ]
     },
     "metadata": {},
     "output_type": "display_data"
    }
   ],
   "source": [
    "sw_mean = np.mean(SW_zeta_skew_mat,axis=0)\n",
    "sw_std = np.std(SW_zeta_skew_mat,axis=0)/np.sqrt(10)\n",
    "QG_mean = np.mean(P1_zeta_skew_mat,axis=0)\n",
    "QG_std = np.std(P1_zeta_skew_mat,axis=0)/np.sqrt(10)\n",
    "\n",
    "fig=plt.figure(figsize=(2.8, 2.2))\n",
    "plt.errorbar(Ro_ary, sw_mean, yerr=sw_std, fmt='o', capsize=4, label=\"Shallow water\")\n",
    "plt.errorbar(Ro_ary, QG_mean, yerr=QG_std, fmt='o', capsize=4, label=\"SWQG$^{+1}$\")\n",
    "plt.xlim([0,0.13]); plt.ylim([-1.5,0.1])\n",
    "plt.xlabel(\"$Ro$\"); plt.ylabel(\"$\\zeta$ skewness\")\n",
    "plt.legend()\n",
    "\n",
    "figname = 'figs/Rosweep_zetaskew'\n",
    "figname = figname.replace(\".\", \"d\" ); figname = figname+'.pdf'\n",
    "plt.savefig(figname, bbox_inches='tight')\n",
    "\n",
    "plt.show()"
   ]
  },
  {
   "cell_type": "code",
   "execution_count": 15,
   "id": "dd06afec-968f-4c93-a6c4-48f3d36ebb3a",
   "metadata": {},
   "outputs": [
    {
     "data": {
      "image/png": "[encoded data removed]",
      "text/plain": [
       "<Figure size 280x220 with 1 Axes>"
      ]
     },
     "metadata": {},
     "output_type": "display_data"
    }
   ],
   "source": [
    "sw_mean = np.mean(SW_q_skew_mat,axis=0)\n",
    "sw_std = np.std(SW_q_skew_mat,axis=0)/np.sqrt(10)\n",
    "QG_mean = np.mean(P1_q_skew_mat,axis=0)\n",
    "QG_std = np.std(P1_q_skew_mat,axis=0)/np.sqrt(10)\n",
    "\n",
    "fig=plt.figure(figsize=(2.8, 2.2))\n",
    "plt.errorbar(Ro_ary, sw_mean, yerr=sw_std, fmt='o', capsize=4,label=\"Shallow water\")\n",
    "plt.errorbar(Ro_ary, QG_mean, yerr=QG_std, fmt='o', capsize=4, label=\"SWQG$^{+1}$\")\n",
    "plt.xlim([0,0.13]); plt.ylim([0,1.6])\n",
    "plt.xlabel(\"$Ro$\"); plt.ylabel(\"$q$ skewness\")\n",
    "plt.legend()\n",
    "\n",
    "figname = 'figs/Rosweep_qskew'\n",
    "figname = figname.replace(\".\", \"d\" ); figname = figname+'.pdf'\n",
    "plt.savefig(figname, bbox_inches='tight')\n",
    "\n",
    "plt.show()"
   ]
  },
  {
   "cell_type": "code",
   "execution_count": null,
   "id": "381aaced-c14c-48a1-9bf7-192a2f231e03",
   "metadata": {},
   "outputs": [],
   "source": []
  }
 ],
 "metadata": {
  "kernelspec": {
   "display_name": "dedalus3",
   "language": "python",
   "name": "dedalus3"
  },
  "language_info": {
   "codemirror_mode": {
    "name": "ipython",
    "version": 3
   },
   "file_extension": ".py",
   "mimetype": "text/x-python",
   "name": "python",
   "nbconvert_exporter": "python",
   "pygments_lexer": "ipython3",
   "version": "3.11.5"
  }
 },
 "nbformat": 4,
 "nbformat_minor": 5
}
