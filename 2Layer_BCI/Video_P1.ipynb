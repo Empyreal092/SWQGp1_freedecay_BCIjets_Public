{
 "cells": [
  {
   "cell_type": "code",
   "execution_count": 2,
   "id": "b505a150-288a-44e5-8828-5e00f1e0b953",
   "metadata": {},
   "outputs": [],
   "source": [
    "import h5py\n",
    "import numpy as np\n",
    "\n",
    "# import matplotlib\n",
    "import matplotlib.pyplot as plt\n",
    "import matplotlib.colors as colors\n",
    "import cmocean.cm as cmo\n",
    "from mpl_toolkits.axes_grid1 import ImageGrid\n",
    "plt.style.use('~/Python_Tool/ryan_mplstyle.mplstyle')\n",
    "\n",
    "from scipy.stats import skew"
   ]
  },
  {
   "cell_type": "code",
   "execution_count": 3,
   "id": "3a1d0055-9e20-4fd5-9ce9-f7b1004b2e2a",
   "metadata": {},
   "outputs": [],
   "source": [
    "Ro = 0.1\n",
    "Bu = 8\n",
    "\n",
    "Ly_instab = 8\n",
    "Ly = Ly_instab*4\n",
    "Ny = 256\n",
    "Lx = Ly*2\n",
    "Nx = Ny*2"
   ]
  },
  {
   "cell_type": "code",
   "execution_count": 4,
   "id": "cdfd3bd7-fede-4377-af0d-7141c3c295e0",
   "metadata": {},
   "outputs": [],
   "source": [
    "# snapname = '2LayP1_sp_%.2f_%.3f_%d' %(Ly_instab,Ro,Nx)\n",
    "# snapname = snapname.replace(\".\", \"d\" ); \n",
    "# sp_int = 1\n",
    "# snapname = ''+snapname+'/'+snapname+'_s%d.h5' %sp_int\n",
    "\n",
    "# with h5py.File(snapname, mode='r') as file:\n",
    "    \n",
    "#     # P1_h1_data = np.squeeze(np.array(file['tasks']['h1']))*Ro/Bu\n",
    "#     # P1_h2_data = np.squeeze(np.array(file['tasks']['h2']))*Ro/Bu\n",
    "    \n",
    "#     P1_zeta_1_data = np.squeeze(np.array(file['tasks']['zeta_1']))*Ro\n",
    "#     P1_zeta_2_data = np.squeeze(np.array(file['tasks']['zeta_2']))*Ro\n",
    "    \n",
    "#     P1_div_1_data = np.squeeze(np.array(file['tasks']['div_1']))*Ro\n",
    "#     P1_div_2_data = np.squeeze(np.array(file['tasks']['div_2']))*Ro\n",
    "    \n",
    "#     P1_sim_time_ary = np.array(file['scales']['sim_time'])\n",
    "#     # print(sim_time_ary)\n",
    "    \n",
    "#     x = np.array(file['scales'][list(file['scales'])[-2]])\n",
    "#     y = np.array(file['scales'][list(file['scales'])[-1]])"
   ]
  },
  {
   "cell_type": "code",
   "execution_count": 11,
   "id": "5ccacf5c-75ee-4038-91c9-8315adeb84fa",
   "metadata": {
    "scrolled": true
   },
   "outputs": [
    {
     "name": "stdout",
     "output_type": "stream",
     "text": [
      "80.00314146913466\n",
      "80.99496300037387\n",
      "81.9946832573815\n",
      "83.0023397365294\n",
      "83.99747288433065\n",
      "85.00491306480366\n",
      "86.0007964929906\n",
      "86.9968749695625\n",
      "88.00040271045212\n",
      "88.99895873743552\n"
     ]
    }
   ],
   "source": [
    "for sp_int in [1,2,3,4,5,6,7,8,9,10,11]:\n",
    "# for sp_int in [9]:\n",
    "    snapname = '2LayP1_sp_%.2f_%.3f_%d' %(Ly_instab,Ro,Nx)\n",
    "    snapname = snapname.replace(\".\", \"d\" ); \n",
    "    # sp_int = 2\n",
    "    snapname = ''+snapname+'/'+snapname+'_s%d.h5' %sp_int\n",
    "    \n",
    "    with h5py.File(snapname, mode='r') as file:\n",
    "        \n",
    "        # P1_h1_data = np.squeeze(np.array(file['tasks']['h1']))*Ro/Bu\n",
    "        # P1_h2_data = np.squeeze(np.array(file['tasks']['h2']))*Ro/Bu\n",
    "        \n",
    "        P1_zeta_1_data = np.squeeze(np.array(file['tasks']['zeta_1']))*Ro\n",
    "        P1_zeta_2_data = np.squeeze(np.array(file['tasks']['zeta_2']))*Ro\n",
    "        \n",
    "        P1_div_1_data = np.squeeze(np.array(file['tasks']['div_1']))*Ro\n",
    "        P1_div_2_data = np.squeeze(np.array(file['tasks']['div_2']))*Ro\n",
    "        \n",
    "        P1_sim_time_ary = np.array(file['scales']['sim_time'])\n",
    "        # print(sim_time_ary)\n",
    "        \n",
    "        x = np.array(file['scales'][list(file['scales'])[-2]])\n",
    "        y = np.array(file['scales'][list(file['scales'])[-1]])\n",
    "\n",
    "\n",
    "    for P1_time_idx in range(P1_sim_time_ary.size):\n",
    "    \n",
    "        print(P1_sim_time_ary[P1_time_idx])\n",
    "        \n",
    "        fig = plt.figure(figsize=(3, 7))\n",
    "        \n",
    "        grid = ImageGrid(fig, 111,          # as in plt.subplot(111)\n",
    "                         nrows_ncols=(2,1),\n",
    "                         axes_pad=0.3,\n",
    "                         share_all=True,\n",
    "                         cbar_location=\"right\",\n",
    "                         cbar_mode=\"single\",\n",
    "                         cbar_size=\"3%\",\n",
    "                         cbar_pad=0.15,\n",
    "                         )\n",
    "        fig.suptitle('$t/T=%.d$' %round(P1_sim_time_ary[P1_time_idx]), y=0.73)\n",
    "        \n",
    "        clim = 0.4\n",
    "        div_ary = [-0.01,-0.005,0.005,0.01]\n",
    "        \n",
    "        im0 = grid[0].pcolormesh(x,y,(P1_zeta_1_data[P1_time_idx,:,:].T+P1_zeta_2_data[P1_time_idx,:,:].T)/2, cmap=cmo.balance, vmin=-clim, vmax=clim)\n",
    "        grid[0].contour(x,y,(P1_div_1_data[P1_time_idx,:,:].T+P1_div_2_data[P1_time_idx,:,:].T)/2, div_ary, colors='black', linewidths=0.5)\n",
    "        grid[0].set_aspect('equal')\n",
    "        grid[0].set_xlabel(\"$x/L$\"); grid[0].set_ylabel(\"$y/L$\")\n",
    "        # grid[0].set_title(\"Shallow water, Upper, $t/T=%.0f$\" %P1_sim_time_ary[P1_time_idx])\n",
    "        grid[0].set_title(\"SWQG$\\\\textsuperscript{+1}$, Barotropic\")\n",
    "        \n",
    "        im1 = grid[1].pcolormesh(x,y,(P1_zeta_1_data[P1_time_idx,:,:].T-P1_zeta_2_data[P1_time_idx,:,:].T)/2, cmap=cmo.balance, vmin=-clim, vmax=clim)\n",
    "        grid[1].contour(x,y,(P1_div_1_data[P1_time_idx,:,:].T-P1_div_2_data[P1_time_idx,:,:].T)/2, div_ary, colors='black', linewidths=0.5)\n",
    "        grid[1].set_aspect('equal')\n",
    "        grid[1].set_xlabel(\"$x/L$\"); grid[1].set_ylabel(\"$y/L$\")\n",
    "        grid[1].set_title(\"SWQG$\\\\textsuperscript{+1}$, Baroclinic\")\n",
    "        \n",
    "        # Colorbar\n",
    "        cbar = grid[1].cax.colorbar(im1)\n",
    "        cbar.set_label(\"$\\zeta/f$\")\n",
    "        \n",
    "        figname = 'figs/video_P1/twolay_zeta_snap_t%.1f' %(P1_sim_time_ary[P1_time_idx])\n",
    "        figname = figname.replace(\".\", \"d\" ); figname = figname+'.png'\n",
    "        plt.savefig(figname, bbox_inches='tight', dpi=100)\n",
    "    \n",
    "        plt.close()"
   ]
  },
  {
   "cell_type": "code",
   "execution_count": 12,
   "id": "74179c46-d6a5-4850-bab6-1012ef2ff4a3",
   "metadata": {},
   "outputs": [
    {
     "name": "stderr",
     "output_type": "stream",
     "text": [
      "/state/partition1/job-57421688/ipykernel_2915683/2571973407.py:13: DeprecationWarning: Starting with ImageIO v3 the behavior of this function will switch to that of iio.v3.imread. To keep the current behavior (and make this warning disappear) use `import imageio.v2 as imageio` or call `imageio.v2.imread` directly.\n",
      "  images.append(imageio.imread(figname))\n"
     ]
    }
   ],
   "source": [
    "import imageio\n",
    "\n",
    "images = []\n",
    "\n",
    "time_ary = np.arange(0,101)\n",
    "\n",
    "# with imageio.get_writer('figs/P1_movie.gif', mode='I') as writer:\n",
    "\n",
    "for time in time_ary:\n",
    "    figname = 'figs/video_P1/twolay_zeta_snap_t%.1f' %(time)\n",
    "    figname = figname.replace(\".\", \"d\" ); figname = figname+'.png'\n",
    "    \n",
    "    images.append(imageio.imread(figname))\n",
    "\n",
    "imageio.mimsave('figs/P1_movie.gif', images)"
   ]
  },
  {
   "cell_type": "code",
   "execution_count": null,
   "id": "f3859d2d-7646-4a40-a973-70fde8761f5c",
   "metadata": {},
   "outputs": [],
   "source": []
  }
 ],
 "metadata": {
  "kernelspec": {
   "display_name": "dedalus3",
   "language": "python",
   "name": "dedalus3"
  },
  "language_info": {
   "codemirror_mode": {
    "name": "ipython",
    "version": 3
   },
   "file_extension": ".py",
   "mimetype": "text/x-python",
   "name": "python",
   "nbconvert_exporter": "python",
   "pygments_lexer": "ipython3",
   "version": "3.11.5"
  }
 },
 "nbformat": 4,
 "nbformat_minor": 5
}
