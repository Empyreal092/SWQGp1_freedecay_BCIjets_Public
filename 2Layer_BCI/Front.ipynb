{
 "cells": [
  {
   "cell_type": "code",
   "execution_count": 1,
   "id": "72798b21-8538-4898-b38d-1f76a95e0f03",
   "metadata": {},
   "outputs": [
    {
     "name": "stdout",
     "output_type": "stream",
     "text": [
      "2024-10-28 17:31:26,937 dedalus 0/1 WARNING :: Threading has not been disabled. This may massively degrade Dedalus performance.\n",
      "2024-10-28 17:31:26,939 dedalus 0/1 WARNING :: We strongly suggest setting the \"OMP_NUM_THREADS\" environment variable to \"1\".\n",
      "2024-10-28 17:31:27,089 numexpr.utils 0/1 INFO :: Note: NumExpr detected 16 cores but \"NUMEXPR_MAX_THREADS\" not set, so enforcing safe limit of 8.\n",
      "2024-10-28 17:31:27,090 numexpr.utils 0/1 INFO :: NumExpr defaulting to 8 threads.\n"
     ]
    }
   ],
   "source": [
    "import numpy as np\n",
    "import dedalus.public as d3\n",
    "\n",
    "import matplotlib\n",
    "import matplotlib.pyplot as plt\n",
    "import matplotlib.colors as colors\n",
    "import cmocean.cm as cmo\n",
    "\n",
    "import logging\n",
    "logger = logging.getLogger(__name__)\n",
    "\n",
    "plt.style.use('/mnt/c/Ryan_Data/Python_Tool/ryan_mplstyle.mplstyle')"
   ]
  },
  {
   "cell_type": "code",
   "execution_count": 2,
   "id": "bf17cb2f-c936-432c-903e-af866650a552",
   "metadata": {},
   "outputs": [],
   "source": [
    "Ro = 0.3\n",
    "Bu = 1\n",
    "\n",
    "Ly_instab = 1\n",
    "Ly = Ly_instab*10\n",
    "Ny = 256\n",
    "Lx = Ly*2\n",
    "Nx = Ny*2\n",
    "\n",
    "if_ridig = 1"
   ]
  },
  {
   "cell_type": "code",
   "execution_count": 3,
   "id": "ecdd11f4-06ee-46cf-ae3f-3d1414e03e9b",
   "metadata": {},
   "outputs": [],
   "source": [
    "dtype = np.float64\n",
    "coords = d3.CartesianCoordinates('y')\n",
    "dist = d3.Distributor(coords, dtype=dtype)\n",
    "ybasis = d3.Chebyshev(coords['y'], size=Ny, bounds=(-Ly/2, Ly/2))"
   ]
  },
  {
   "cell_type": "code",
   "execution_count": 4,
   "id": "84b6bdc5-87ac-488a-b8c1-52bdb1653403",
   "metadata": {},
   "outputs": [],
   "source": [
    "dtype = np.float64\n",
    "coords = d3.CartesianCoordinates('y')\n",
    "dist = d3.Distributor(coords, dtype=dtype)\n",
    "ybasis = d3.Chebyshev(coords['y'], size=Ny, bounds=(-Ly/2, Ly/2))\n",
    "\n",
    "dy = lambda A: d3.Differentiate(A, coords['y'])\n",
    "y = dist.local_grids(ybasis); y = y[0]\n",
    "\n",
    "# integ =  lambda A: d3.Integrate(A, ('y'))\n",
    "\n",
    "# Fields\n",
    "q1 = dist.Field(bases=ybasis )\n",
    "q2 = dist.Field(bases=ybasis )\n",
    "\n",
    "q2['g'] = -np.exp(-y**2)\n",
    "q1['g'] = -q2['g']\n"
   ]
  },
  {
   "cell_type": "code",
   "execution_count": 5,
   "id": "be3fb5d3-0009-4718-8321-2b0a9ed51d99",
   "metadata": {},
   "outputs": [],
   "source": [
    "# Fields\n",
    "#################\n",
    "P0_1 = dist.Field(name='P0_1', bases=ybasis )\n",
    "P0_2 = dist.Field(name='P0_2', bases=ybasis )\n",
    "tau_P0_1 = dist.Field(name='tau_P0_1')\n",
    "tau_P0_1l = dist.Field(); tau_P0_1r = dist.Field()\n",
    "tau_P0_2 = dist.Field(name='tau_P0_2')\n",
    "tau_P0_2l = dist.Field(); tau_P0_2r = dist.Field()\n",
    "\n",
    "#################\n",
    "P1_1 = dist.Field(name='P1_1', bases=ybasis )\n",
    "P1_2 = dist.Field(name='P1_2', bases=ybasis )\n",
    "tau_P1_1 = dist.Field(name='tau_P1_1')\n",
    "tau_P1_1l = dist.Field(); tau_P1_1r = dist.Field()\n",
    "tau_P1_2 = dist.Field(name='tau_P1_2')\n",
    "tau_P1_2l = dist.Field(); tau_P1_2r = dist.Field()\n",
    "\n",
    "#################\n",
    "G1_1 = dist.Field(name='G1_1', bases=ybasis )\n",
    "G1_2 = dist.Field(name='G1_2', bases=ybasis )\n",
    "tau_G1_1 = dist.Field(name='tau_G1_1')\n",
    "tau_G1_1l = dist.Field(); tau_G1_1r = dist.Field()\n",
    "tau_G1_2 = dist.Field(name='tau_G1_2')\n",
    "tau_G1_2l = dist.Field(); tau_G1_2r = dist.Field()\n",
    "\n",
    "# Substitutions\n",
    "lift_basis = ybasis.derivative_basis(2)\n",
    "lift = lambda A, n: d3.Lift(A, lift_basis, n)\n",
    "\n",
    "dyy = lambda A: dy(dy(A))\n",
    "\n",
    "avg = lambda A: d3.Average(A, 'y')\n",
    "integ = lambda A: d3.Integrate(A, 'y')\n",
    "\n",
    "q1_nomean = q1-avg(q1)\n",
    "q2_nomean = q2-avg(q2)\n",
    "\n",
    "u1 = -dy(P0_1)+Ro*(-dy(P1_1))\n",
    "v1 =  Ro*(-G1_1)\n",
    "u2 = -dy(P0_2)+Ro*(-dy(P1_2))\n",
    "v2 =  Ro*(-G1_2)\n",
    "h1 = if_ridig*P0_1-P0_2+Ro*(if_ridig*P1_1-P1_2)\n",
    "h2 = P0_2-P0_1+Ro*(P1_2-P1_1)\n",
    "\n",
    "zeta_1 = -dy(u1)\n",
    "zeta_2 = -dy(u2)\n",
    "div_1 = dy(v1)\n",
    "div_2 = dy(v2)"
   ]
  },
  {
   "cell_type": "code",
   "execution_count": 6,
   "id": "cdf4f254-27a9-4d3c-b56f-0f903f42eab3",
   "metadata": {},
   "outputs": [
    {
     "data": {
      "text/plain": [
       "{'LHS': interp(<Field 140644069374288>, y=5.0),\n",
       " 'RHS': 0,\n",
       " 'condition': 'True',\n",
       " 'tensorsig': (),\n",
       " 'dtype': numpy.float64,\n",
       " 'M': 0,\n",
       " 'L': interp(<Field 140644069374288>, y=5.0),\n",
       " 'F': <Field 140644068960080>,\n",
       " 'domain': <dedalus.core.domain.Domain at 0x7fea3fcb70e0>,\n",
       " 'matrix_dependence': array([ True]),\n",
       " 'matrix_coupling': array([ True])}"
      ]
     },
     "execution_count": 6,
     "metadata": {},
     "output_type": "execute_result"
    }
   ],
   "source": [
    "# Problem\n",
    "problem = d3.IVP([P0_1, P0_2, tau_P0_1, tau_P0_2, tau_P0_1l, tau_P0_1r, tau_P0_2l, tau_P0_2r, \\\n",
    "                  P1_1, P1_2, tau_P1_1, tau_P1_2, tau_P1_1l, tau_P1_1r, tau_P1_2l, tau_P1_2r, \\\n",
    "                  G1_1, G1_2,tau_G1_1,tau_G1_2, tau_G1_1l, tau_G1_1r, tau_G1_2l, tau_G1_2r\n",
    "                    ], namespace=locals())\n",
    "\n",
    "#################\n",
    "problem.add_equation(\"dyy(P0_1)+(P0_2-P0_1)/Bu+tau_P0_1 +lift(tau_P0_1l,-1)+lift(tau_P0_1r,-2) =q1_nomean\")\n",
    "problem.add_equation(\"dyy(P0_2)+(P0_1-P0_2)/Bu+tau_P0_2 +lift(tau_P0_2l,-1)+lift(tau_P0_2r,-2) =q2_nomean\")\n",
    "problem.add_equation(\"integ(P0_1)=0\")\n",
    "problem.add_equation(\"integ(P0_2)=0\")\n",
    "problem.add_equation(\"dy(P0_1)(y=-Ly/2)=0\"); problem.add_equation(\"dy(P0_1)(y=Ly/2)=0\")\n",
    "problem.add_equation(\"dy(P0_2)(y=-Ly/2)=0\"); problem.add_equation(\"dy(P0_2)(y=Ly/2)=0\")\n",
    "\n",
    "#################\n",
    "problem.add_equation(\"dyy(P1_1)+(P1_2-P1_1)/Bu+tau_P1_1 +lift(tau_P1_1l,-1)+lift(tau_P1_1r,-2) =-(P0_1-P0_2)**2/Bu**2+dyy(P0_1)*(P0_1-P0_2)/Bu\")\n",
    "problem.add_equation(\"dyy(P1_2)+(P1_1-P1_2)/Bu+tau_P1_2 +lift(tau_P1_2l,-1)+lift(tau_P1_2r,-2) =-(P0_2-P0_1)**2/Bu**2+dyy(P0_2)*(P0_2-P0_1)/Bu\")\n",
    "problem.add_equation(\"integ(P1_1)=0\")\n",
    "problem.add_equation(\"integ(P1_2)=0\")\n",
    "problem.add_equation(\"dy(P1_1)(y=-Ly/2)=0\"); problem.add_equation(\"dy(P1_1)(y=Ly/2)=0\")\n",
    "problem.add_equation(\"dy(P1_2)(y=-Ly/2)=0\"); problem.add_equation(\"dy(P1_2)(y=Ly/2)=0\")\n",
    "\n",
    "#################\n",
    "problem.add_equation(\"dyy(G1_1)+(G1_2-G1_1)/Bu+tau_G1_1+lift(tau_G1_1l,-1)+lift(tau_G1_1r,-2)  =2*dy(P0_2-P0_1)/Bu\")\n",
    "problem.add_equation(\"dyy(G1_2)+(G1_1-G1_2)/Bu+tau_G1_2+lift(tau_G1_2l,-1)+lift(tau_G1_2r,-2)  =2*dy(P0_1-P0_2)/Bu\")\n",
    "problem.add_equation(\"integ(G1_1)=0\")\n",
    "problem.add_equation(\"integ(G1_2)=0\")\n",
    "problem.add_equation(\"G1_1(y=-Ly/2)=0\"); problem.add_equation(\"G1_1(y=Ly/2)=0\")\n",
    "problem.add_equation(\"G1_2(y=-Ly/2)=0\"); problem.add_equation(\"G1_2(y=Ly/2)=0\")"
   ]
  },
  {
   "cell_type": "code",
   "execution_count": 7,
   "id": "589b6242-e759-4e14-a6eb-773f50b9f090",
   "metadata": {},
   "outputs": [
    {
     "name": "stdout",
     "output_type": "stream",
     "text": [
      "2024-10-28 17:31:28,248 subsystems 0/1 INFO :: Building subproblem matrices 1/1 (~100%) Elapsed: 0s, Remaining: 0s, Rate: 6.1e+00/s\n"
     ]
    }
   ],
   "source": [
    "# Solver\n",
    "solver = problem.build_solver(d3.RK222)\n",
    "solver.stop_sim_time = 10\n",
    "\n",
    "timestep = 1e-7; \n",
    "solver.step(timestep); solver.step(timestep); solver.step(timestep); solver.step(timestep); solver.step(timestep)"
   ]
  },
  {
   "cell_type": "code",
   "execution_count": null,
   "id": "daaefa62-8a27-4029-9721-0224878ece30",
   "metadata": {},
   "outputs": [],
   "source": []
  },
  {
   "cell_type": "code",
   "execution_count": 8,
   "id": "bb359d84-901f-4917-88fe-ee3bd8f057ff",
   "metadata": {},
   "outputs": [],
   "source": [
    "u1_e = u1.evaluate(); u1_e.change_scales(1)\n",
    "u2_e = u2.evaluate(); u2_e.change_scales(1)\n",
    "\n",
    "zeta1_e = zeta_1.evaluate(); zeta1_e.change_scales(1)\n",
    "zeta2_e = zeta_2.evaluate(); zeta2_e.change_scales(1)\n",
    "\n",
    "h1_e = h1.evaluate(); h1_e.change_scales(1)\n",
    "h2_e = h2.evaluate(); h2_e.change_scales(1)\n",
    "v1_e = v1.evaluate(); v1_e.change_scales(1)\n",
    "\n",
    "div1_e = div_1.evaluate(); div1_e.change_scales(1)\n",
    "div2_e = div_2.evaluate(); div2_e.change_scales(1)"
   ]
  },
  {
   "cell_type": "code",
   "execution_count": 9,
   "id": "d9e44a8d-42c5-4aae-ab91-f22a3c7f1e43",
   "metadata": {},
   "outputs": [
    {
     "data": {
      "image/png": "[encoded data removed]",
      "text/plain": [
       "<Figure size 400x150 with 2 Axes>"
      ]
     },
     "metadata": {},
     "output_type": "display_data"
    }
   ],
   "source": [
    "y1 = np.ones(h2_e['g'].size)\n",
    "y2 = (h2_e['g']-h2_e['g'][0])*Ro+1/2\n",
    "y3 = 0\n",
    "\n",
    "plt.figure(figsize=(4, 1.5))\n",
    "# plt.plot(y,y1)\n",
    "plt.plot(y,y2,'k')\n",
    "\n",
    "plt.ylim([0,1])\n",
    "plt.xlim([-3,3])\n",
    "\n",
    "climm = 0.03\n",
    "#####################\n",
    "polygon = plt.fill_between(y, y1, y2, lw=0, color='none')\n",
    "xlim = (y.min(), y.max())\n",
    "ylim = plt.ylim()\n",
    "verts = np.vstack([p.vertices for p in polygon.get_paths()])\n",
    "gradient = plt.imshow(div1_e['g'].reshape(-1, 1).T*Ro, cmap=cmo.balance, aspect='auto', origin='lower',\n",
    "                      extent=[verts[:, 0].min(), verts[:, 0].max(), verts[:, 1].min(), verts[:, 1].max()], vmin=-climm,vmax=climm)\n",
    "gradient.set_clip_path(polygon.get_paths()[0], transform=plt.gca().transData)\n",
    "\n",
    "#####################\n",
    "polygon = plt.fill_between(y, y2, y3, lw=0, color='none')\n",
    "xlim = (y.min(), y.max())\n",
    "ylim = plt.ylim()\n",
    "verts = np.vstack([p.vertices for p in polygon.get_paths()])\n",
    "gradient = plt.imshow(div2_e['g'].reshape(-1, 1).T*Ro, cmap=cmo.balance, aspect='auto', origin='lower',\n",
    "                      extent=[verts[:, 0].min(), verts[:, 0].max(), verts[:, 1].min(), verts[:, 1].max()], vmin=-climm,vmax=climm)\n",
    "gradient.set_clip_path(polygon.get_paths()[0], transform=plt.gca().transData)\n",
    "\n",
    "cbar = plt.colorbar()\n",
    "cbar.set_label(r'$\\{Ro\\} \\delta/f$')\n",
    "plt.xlabel(r\"$y/L$\")\n",
    "\n",
    "figname = 'front_div'\n",
    "figname = figname.replace(\".\", \"d\" ); figname = figname+'.png'\n",
    "plt.savefig(figname, bbox_inches='tight', dpi=800)"
   ]
  }
 ],
 "metadata": {
  "kernelspec": {
   "display_name": "Python 3 (ipykernel)",
   "language": "python",
   "name": "python3"
  },
  "language_info": {
   "codemirror_mode": {
    "name": "ipython",
    "version": 3
   },
   "file_extension": ".py",
   "mimetype": "text/x-python",
   "name": "python",
   "nbconvert_exporter": "python",
   "pygments_lexer": "ipython3",
   "version": "3.12.2"
  }
 },
 "nbformat": 4,
 "nbformat_minor": 5
}
