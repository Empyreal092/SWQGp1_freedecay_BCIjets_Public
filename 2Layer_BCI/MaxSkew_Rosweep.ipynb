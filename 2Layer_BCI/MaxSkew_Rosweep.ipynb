{
 "cells": [
  {
   "cell_type": "code",
   "execution_count": 1,
   "id": "b505a150-288a-44e5-8828-5e00f1e0b953",
   "metadata": {},
   "outputs": [],
   "source": [
    "import h5py\n",
    "import numpy as np\n",
    "\n",
    "# import matplotlib\n",
    "import matplotlib.pyplot as plt\n",
    "import matplotlib.colors as colors\n",
    "import cmocean.cm as cmo\n",
    "from mpl_toolkits.axes_grid1 import ImageGrid\n",
    "plt.style.use('~/Python_Tool/ryan_mplstyle.mplstyle')\n",
    "\n",
    "from scipy.stats import skew"
   ]
  },
  {
   "cell_type": "code",
   "execution_count": 2,
   "id": "3a1d0055-9e20-4fd5-9ce9-f7b1004b2e2a",
   "metadata": {},
   "outputs": [],
   "source": [
    "Bu = 8\n",
    "\n",
    "Ly_instab = 8\n",
    "Ly = Ly_instab*4\n",
    "Ny = 256\n",
    "Lx = Ly*2\n",
    "Nx = Ny*2"
   ]
  },
  {
   "cell_type": "code",
   "execution_count": 3,
   "id": "bbeacce5-2e02-48d1-b0db-6cfc13abf40b",
   "metadata": {},
   "outputs": [
    {
     "name": "stdout",
     "output_type": "stream",
     "text": [
      "0.01\n",
      "0.03\n",
      "0.05\n",
      "0.08\n",
      "0.1\n"
     ]
    }
   ],
   "source": [
    "SW_zeta1_skew_max = np.array([])\n",
    "SW_zeta2_skew_max = np.array([])\n",
    "P1_zeta1_skew_max = np.array([])\n",
    "P1_zeta2_skew_max = np.array([])\n",
    "\n",
    "Ro_ary = [0.01,0.03,0.05,0.08,0.1]\n",
    "\n",
    "for Ro in Ro_ary:\n",
    "    print(Ro)\n",
    "    # SW\n",
    "    diagname = '2LaySW_dg_%.2f_%.3f_%d' %(Ly_instab,Ro,Nx)\n",
    "    diagname = diagname.replace(\".\", \"d\" ); \n",
    "    \n",
    "    diagname = ''+diagname+'/'+diagname+'_s1.h5'\n",
    "    # xi = np.inf\n",
    "    \n",
    "    with h5py.File(diagname, mode='r') as file:\n",
    "        \n",
    "        dg_time_ary = np.array(file['scales']['sim_time'])\n",
    "    \n",
    "        SW_zeta1_skew = np.array(file['tasks']['zeta1_skew'])\n",
    "        SW_zeta2_skew = np.array(file['tasks']['zeta2_skew'])\n",
    "    \n",
    "    diagname = '2LayP1_dg_%.2f_%.3f_%d' %(Ly_instab,Ro,Nx)\n",
    "    diagname = diagname.replace(\".\", \"d\" ); \n",
    "    \n",
    "    diagname = ''+diagname+'/'+diagname+'_s1.h5'\n",
    "    # xi = np.inf\n",
    "    \n",
    "    with h5py.File(diagname, mode='r') as file:\n",
    "        \n",
    "        dg_time_ary = np.array(file['scales']['sim_time'])\n",
    "    \n",
    "        P1_zeta1_skew = np.array(file['tasks']['zeta1_skew'])\n",
    "        P1_zeta2_skew = np.array(file['tasks']['zeta2_skew'])\n",
    "\n",
    "    #################################\n",
    "    SW_zeta1_skew_max = np.append(SW_zeta1_skew_max, np.max(SW_zeta1_skew[0:300]))\n",
    "    SW_zeta2_skew_max = np.append(SW_zeta2_skew_max, np.max(SW_zeta2_skew[0:300]))\n",
    "    P1_zeta1_skew_max = np.append(P1_zeta1_skew_max, np.max(P1_zeta1_skew[0:300]))\n",
    "    P1_zeta2_skew_max = np.append(P1_zeta2_skew_max, np.max(P1_zeta2_skew[0:300]))"
   ]
  },
  {
   "cell_type": "code",
   "execution_count": 6,
   "id": "ce5a6377-4b4a-497f-8681-5e0d379cce71",
   "metadata": {},
   "outputs": [
    {
     "data": {
      "image/png": "[encoded data removed]",
      "text/plain": [
       "<Figure size 280x220 with 1 Axes>"
      ]
     },
     "metadata": {},
     "output_type": "display_data"
    }
   ],
   "source": [
    "fig=plt.figure(figsize=(2.8, 2.2))\n",
    "\n",
    "min_x = 1000\n",
    "\n",
    "im0 = plt.plot(Ro_ary,SW_zeta1_skew_max,'o',color=[0,0.4453125,0.6953125],label=\"SW Top\", mfc='none')\n",
    "im0 = plt.plot(Ro_ary,P1_zeta1_skew_max,'x',color=[0,0.4453125,0.6953125],label=\"SWQG$^+1$ Top\")\n",
    "im0 = plt.plot(Ro_ary,SW_zeta2_skew_max,'o',color=[0.83203125,0.3671875,0.],label=\"SW Bot\", mfc='none')\n",
    "im0 = plt.plot(Ro_ary,P1_zeta2_skew_max,'x',color=[0.83203125,0.3671875,0.],label=\"SWQG$^+1$ Bot\")\n",
    "# im0 = plt.plot(dg_time_ary[1:min_x],SW_zeta2_skew[1:min_x,0,0],label=\"Bot layer\")\n",
    "plt.xlabel(\"$Ro$\"); \n",
    "plt.ylabel(\"Loc. Max Vorticity Skewness\")\n",
    "# plt.set_title(\"Shallow water\")\n",
    "plt.ylim(0,0.8); \n",
    "plt.xlim(0,0.11)\n",
    "plt.legend()\n",
    "\n",
    "figname = 'figs/MaxSkew_Rosweep.pdf'\n",
    "plt.savefig(figname, bbox_inches='tight')\n",
    "plt.show()"
   ]
  },
  {
   "cell_type": "code",
   "execution_count": null,
   "id": "170b33a5-5ee6-4093-88cd-c4b4664f67a7",
   "metadata": {},
   "outputs": [],
   "source": []
  }
 ],
 "metadata": {
  "kernelspec": {
   "display_name": "dedalus3",
   "language": "python",
   "name": "dedalus3"
  },
  "language_info": {
   "codemirror_mode": {
    "name": "ipython",
    "version": 3
   },
   "file_extension": ".py",
   "mimetype": "text/x-python",
   "name": "python",
   "nbconvert_exporter": "python",
   "pygments_lexer": "ipython3",
   "version": "3.11.5"
  }
 },
 "nbformat": 4,
 "nbformat_minor": 5
}
